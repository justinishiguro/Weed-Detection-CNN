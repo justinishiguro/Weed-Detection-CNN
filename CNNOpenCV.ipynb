{
 "cells": [
  {
   "cell_type": "markdown",
   "metadata": {},
   "source": [
    "Implementation of CNN using TensorFlow and OpenCV:"
   ]
  },
  {
   "cell_type": "code",
   "execution_count": 1,
   "metadata": {},
   "outputs": [
    {
     "name": "stderr",
     "output_type": "stream",
     "text": [
      "c:\\Users\\justi\\anaconda3\\lib\\site-packages\\scipy\\__init__.py:155: UserWarning: A NumPy version >=1.18.5 and <1.25.0 is required for this version of SciPy (detected version 1.26.4\n",
      "  warnings.warn(f\"A NumPy version >={np_minversion} and <{np_maxversion}\"\n"
     ]
    },
    {
     "name": "stdout",
     "output_type": "stream",
     "text": [
      "WARNING:tensorflow:From c:\\Users\\justi\\anaconda3\\lib\\site-packages\\keras\\src\\losses.py:2976: The name tf.losses.sparse_softmax_cross_entropy is deprecated. Please use tf.compat.v1.losses.sparse_softmax_cross_entropy instead.\n",
      "\n"
     ]
    }
   ],
   "source": [
    "import numpy as np\n",
    "import cv2\n",
    "from sklearn.model_selection import train_test_split\n",
    "import os\n",
    "from tensorflow.keras import Sequential\n",
    "from tensorflow.keras import layers"
   ]
  },
  {
   "cell_type": "code",
   "execution_count": 3,
   "metadata": {},
   "outputs": [],
   "source": [
    "def load_yolo_data(data_dir):\n",
    "    \"\"\"\n",
    "    load_yolo_data: Reads data from \"data_dir\", scales image and assigns label \n",
    "                    (class) based on .txt file (1 is weed, 0 is plant)\n",
    "\n",
    "    :param data_dir: The path of the data that the function should read from\n",
    "    :return: Images and the corresponding labels as numpy arrays for preprocessing\n",
    "    \"\"\"\n",
    "    images = []\n",
    "    labels = []\n",
    "    \n",
    "    for filename in os.listdir(data_dir):\n",
    "        if filename.endswith('.jpeg') or filename.endswith('.jpg'):\n",
    "            img_path = os.path.join(data_dir, filename)\n",
    "            image = cv2.imread(img_path)\n",
    "            image_resized = cv2.resize(image, (224, 224))\n",
    "            image_rgb = cv2.cvtColor(image_resized, cv2.COLOR_BGR2RGB)\n",
    "            images.append(image_rgb)\n",
    "            \n",
    "            annotation_path = os.path.join(data_dir, filename.replace('.jpeg', '.txt').replace('.jpg', '.txt'))\n",
    "            with open(annotation_path, 'r') as file:\n",
    "                yolo_data = file.readline().split()\n",
    "                class_label = int(yolo_data[0])\n",
    "                labels.append(class_label)\n",
    "    \n",
    "    return np.array(images), np.array(labels)"
   ]
  },
  {
   "cell_type": "markdown",
   "metadata": {},
   "source": [
    "preprocess_images:\n",
    "\n",
    "Just preprocesses pixels of images to a scale of [0, 1]."
   ]
  },
  {
   "cell_type": "code",
   "execution_count": 4,
   "metadata": {},
   "outputs": [],
   "source": [
    "def preprocess_images(images):\n",
    "    \"\"\"\n",
    "    preprocess_images: Preprocesses images by scaling pixel values (to a scale of [0, 1]).\n",
    "\n",
    "    :param images: Numpy array of images\n",
    "    :return: Scaled images\n",
    "    \"\"\"\n",
    "    images = images.astype('float32') / 255.0\n",
    "    return images"
   ]
  },
  {
   "cell_type": "code",
   "execution_count": 5,
   "metadata": {},
   "outputs": [],
   "source": [
    "data_dir = './data' # Replace with the path where the data is contained\n",
    "images, labels = load_yolo_data(data_dir)\n",
    "images = preprocess_images(images)\n",
    "\n",
    "# Split the data into train and test sets:\n",
    "X_train, X_test, y_train, y_test = train_test_split(images, labels, test_size=0.2, random_state=42)\n",
    "# When we combine our data, we can create a validation split too"
   ]
  },
  {
   "cell_type": "code",
   "execution_count": 11,
   "metadata": {},
   "outputs": [
    {
     "name": "stdout",
     "output_type": "stream",
     "text": [
      "1040\n",
      "260\n"
     ]
    }
   ],
   "source": [
    "print(len(X_train))\n",
    "print(len(X_test))"
   ]
  },
  {
   "cell_type": "code",
   "execution_count": 12,
   "metadata": {},
   "outputs": [],
   "source": [
    "def cnn_model(input_shape=(224, 224, 3)):\n",
    "    \"\"\"\n",
    "    cnn_model: Constructs and returns a Convolutional Neural Network\n",
    "\n",
    "    :param input_shape: This shape should match the size of the resized data in the\n",
    "                        preprocessing step\n",
    "    :return: model which corresponds to constructed CNN\n",
    "    \"\"\"\n",
    "    model = Sequential()\n",
    "    model.add(layers.Conv2D(32, (3, 3), activation='relu', input_shape=input_shape))\n",
    "    model.add(layers.MaxPooling2D((2, 2)))\n",
    "    model.add(layers.Conv2D(64, (3, 3), activation='relu'))\n",
    "    model.add(layers.MaxPooling2D((2, 2)))\n",
    "    model.add(layers.Conv2D(128, (3, 3), activation='relu'))\n",
    "    model.add(layers.MaxPooling2D((2, 2)))\n",
    "    model.add(layers.Flatten())\n",
    "    model.add(layers.Dense(512, activation='relu'))\n",
    "    model.add(layers.Dense(2, activation='softmax'))\n",
    "     \n",
    "    return model"
   ]
  },
  {
   "cell_type": "code",
   "execution_count": 13,
   "metadata": {},
   "outputs": [
    {
     "name": "stdout",
     "output_type": "stream",
     "text": [
      "WARNING:tensorflow:From c:\\Users\\justi\\anaconda3\\lib\\site-packages\\keras\\src\\backend.py:873: The name tf.get_default_graph is deprecated. Please use tf.compat.v1.get_default_graph instead.\n",
      "\n",
      "WARNING:tensorflow:From c:\\Users\\justi\\anaconda3\\lib\\site-packages\\keras\\src\\layers\\pooling\\max_pooling2d.py:161: The name tf.nn.max_pool is deprecated. Please use tf.nn.max_pool2d instead.\n",
      "\n",
      "Model: \"sequential\"\n",
      "_________________________________________________________________\n",
      " Layer (type)                Output Shape              Param #   \n",
      "=================================================================\n",
      " conv2d (Conv2D)             (None, 222, 222, 32)      896       \n",
      "                                                                 \n",
      " max_pooling2d (MaxPooling2  (None, 111, 111, 32)      0         \n",
      " D)                                                              \n",
      "                                                                 \n",
      " conv2d_1 (Conv2D)           (None, 109, 109, 64)      18496     \n",
      "                                                                 \n",
      " max_pooling2d_1 (MaxPoolin  (None, 54, 54, 64)        0         \n",
      " g2D)                                                            \n",
      "                                                                 \n",
      " conv2d_2 (Conv2D)           (None, 52, 52, 128)       73856     \n",
      "                                                                 \n",
      " max_pooling2d_2 (MaxPoolin  (None, 26, 26, 128)       0         \n",
      " g2D)                                                            \n",
      "                                                                 \n",
      " flatten (Flatten)           (None, 86528)             0         \n",
      "                                                                 \n",
      " dense (Dense)               (None, 512)               44302848  \n",
      "                                                                 \n",
      " dense_1 (Dense)             (None, 2)                 1026      \n",
      "                                                                 \n",
      "=================================================================\n",
      "Total params: 44397122 (169.36 MB)\n",
      "Trainable params: 44397122 (169.36 MB)\n",
      "Non-trainable params: 0 (0.00 Byte)\n",
      "_________________________________________________________________\n"
     ]
    }
   ],
   "source": [
    "model = cnn_model()\n",
    "model.summary()"
   ]
  },
  {
   "cell_type": "code",
   "execution_count": 14,
   "metadata": {},
   "outputs": [
    {
     "name": "stdout",
     "output_type": "stream",
     "text": [
      "WARNING:tensorflow:From c:\\Users\\justi\\anaconda3\\lib\\site-packages\\keras\\src\\optimizers\\__init__.py:309: The name tf.train.Optimizer is deprecated. Please use tf.compat.v1.train.Optimizer instead.\n",
      "\n"
     ]
    }
   ],
   "source": [
    "model.compile(optimizer='adam', \n",
    "              loss='sparse_categorical_crossentropy', \n",
    "              metrics=['accuracy'],\n",
    "             )"
   ]
  },
  {
   "cell_type": "code",
   "execution_count": 15,
   "metadata": {},
   "outputs": [
    {
     "name": "stdout",
     "output_type": "stream",
     "text": [
      "Epoch 1/10\n",
      "WARNING:tensorflow:From c:\\Users\\justi\\anaconda3\\lib\\site-packages\\keras\\src\\utils\\tf_utils.py:492: The name tf.ragged.RaggedTensorValue is deprecated. Please use tf.compat.v1.ragged.RaggedTensorValue instead.\n",
      "\n",
      "WARNING:tensorflow:From c:\\Users\\justi\\anaconda3\\lib\\site-packages\\keras\\src\\engine\\base_layer_utils.py:384: The name tf.executing_eagerly_outside_functions is deprecated. Please use tf.compat.v1.executing_eagerly_outside_functions instead.\n",
      "\n",
      "23/23 [==============================] - 16s 609ms/step - loss: 2.1225 - accuracy: 0.5192 - val_loss: 0.6815 - val_accuracy: 0.5353\n",
      "Epoch 2/10\n",
      "23/23 [==============================] - 13s 582ms/step - loss: 0.6136 - accuracy: 0.6538 - val_loss: 0.4568 - val_accuracy: 0.8558\n",
      "Epoch 3/10\n",
      "23/23 [==============================] - 13s 588ms/step - loss: 0.4828 - accuracy: 0.7871 - val_loss: 0.4149 - val_accuracy: 0.8301\n",
      "Epoch 4/10\n",
      "23/23 [==============================] - 14s 598ms/step - loss: 0.3916 - accuracy: 0.8544 - val_loss: 0.4330 - val_accuracy: 0.8558\n",
      "Epoch 5/10\n",
      "23/23 [==============================] - 14s 595ms/step - loss: 0.4163 - accuracy: 0.8544 - val_loss: 0.3993 - val_accuracy: 0.8558\n",
      "Epoch 6/10\n",
      "23/23 [==============================] - 15s 645ms/step - loss: 0.3432 - accuracy: 0.8723 - val_loss: 0.2941 - val_accuracy: 0.9071\n",
      "Epoch 7/10\n",
      "23/23 [==============================] - 15s 633ms/step - loss: 0.2779 - accuracy: 0.9011 - val_loss: 0.2659 - val_accuracy: 0.9199\n",
      "Epoch 8/10\n",
      "23/23 [==============================] - 14s 610ms/step - loss: 0.2390 - accuracy: 0.9135 - val_loss: 0.3607 - val_accuracy: 0.8494\n",
      "Epoch 9/10\n",
      "23/23 [==============================] - 14s 596ms/step - loss: 0.1789 - accuracy: 0.9368 - val_loss: 0.2201 - val_accuracy: 0.9295\n",
      "Epoch 10/10\n",
      "23/23 [==============================] - 14s 622ms/step - loss: 0.1184 - accuracy: 0.9615 - val_loss: 0.2348 - val_accuracy: 0.9263\n"
     ]
    }
   ],
   "source": [
    "history = model.fit(X_train,\n",
    "                    y_train,\n",
    "                    epochs=10, \n",
    "                    validation_split=.3,\n",
    "                   )"
   ]
  },
  {
   "cell_type": "code",
   "execution_count": 16,
   "metadata": {},
   "outputs": [
    {
     "name": "stdout",
     "output_type": "stream",
     "text": [
      "9/9 [==============================] - 1s 143ms/step - loss: 0.1974 - accuracy: 0.9385\n",
      "Test Accuracy: 0.9384615421295166\n"
     ]
    }
   ],
   "source": [
    "test_accuracy = model.evaluate(X_test, y_test)\n",
    "print(f\"Test Accuracy: {test_accuracy[1]}\")"
   ]
  }
 ],
 "metadata": {
  "kernelspec": {
   "display_name": "base",
   "language": "python",
   "name": "python3"
  },
  "language_info": {
   "codemirror_mode": {
    "name": "ipython",
    "version": 3
   },
   "file_extension": ".py",
   "mimetype": "text/x-python",
   "name": "python",
   "nbconvert_exporter": "python",
   "pygments_lexer": "ipython3",
   "version": "3.9.13"
  }
 },
 "nbformat": 4,
 "nbformat_minor": 2
}
